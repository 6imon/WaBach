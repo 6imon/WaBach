{
 "cells": [
  {
   "cell_type": "code",
   "execution_count": 17,
   "id": "28c912a9-3d39-4be8-9e4d-fb73e1c83180",
   "metadata": {},
   "outputs": [
    {
     "name": "stdout",
     "output_type": "stream",
     "text": [
      "Metric:\n"
     ]
    },
    {
     "data": {
      "text/latex": [
       "$\\displaystyle \\left[\\begin{matrix}0 & -1 & 0 & 0\\\\-1 & \\frac{2 M}{v} - 1 & 0 & 0\\\\0 & 0 & v^{2} & 0\\\\0 & 0 & 0 & v^{2} \\sin^{2}{\\left(\\theta \\right)}\\end{matrix}\\right]$"
      ],
      "text/plain": [
       "Matrix([\n",
       "[ 0,        -1,    0,                   0],\n",
       "[-1, 2*M/v - 1,    0,                   0],\n",
       "[ 0,         0, v**2,                   0],\n",
       "[ 0,         0,    0, v**2*sin(\\theta)**2]])"
      ]
     },
     "metadata": {},
     "output_type": "display_data"
    },
    {
     "name": "stdout",
     "output_type": "stream",
     "text": [
      "\n",
      "Wayl^2:\n"
     ]
    },
    {
     "data": {
      "text/latex": [
       "$\\displaystyle \\frac{48 M^{2}}{v^{6}}$"
      ],
      "text/plain": [
       "48*M**2/v**6"
      ]
     },
     "metadata": {},
     "output_type": "display_data"
    },
    {
     "name": "stdout",
     "output_type": "stream",
     "text": [
      "\n",
      "Bach tensors\n"
     ]
    },
    {
     "data": {
      "text/latex": [
       "$\\displaystyle \\left[\\begin{matrix}0 & 0 & 0 & 0\\\\0 & 0 & 0 & 0\\\\0 & 0 & 0 & 0\\\\0 & 0 & 0 & 0\\end{matrix}\\right]$"
      ],
      "text/plain": [
       "Matrix([\n",
       "[0, 0, 0, 0],\n",
       "[0, 0, 0, 0],\n",
       "[0, 0, 0, 0],\n",
       "[0, 0, 0, 0]])"
      ]
     },
     "metadata": {},
     "output_type": "display_data"
    }
   ],
   "source": [
    "from gravipy.tensorial import *\n",
    "from wabach.tensors import *\n",
    "\n",
    "# coordinates\n",
    "v, u, theta, phi = symbols('v, u, \\\\theta, \\phi')\n",
    "chi = Coordinates('\\chi', [v, u, theta, phi])\n",
    "\n",
    "# Schwarzschild solution\n",
    "M = Symbol('M', real=True)\n",
    "H = -1 + 2*M/v   \n",
    "rho = v\n",
    "\n",
    "Metric = Matrix([[0, -1, 0, 0], [-1, H, 0, 0], [0, 0, rho ** 2, 0], [0, 0, 0, rho ** 2 * sin(theta) ** 2]])\n",
    "print('Metric:')\n",
    "display(Metric)\n",
    "print()\n",
    "g = MetricTensor('g', chi, Metric)\n",
    "\n",
    "# standard  GraviPy tensors\n",
    "Ga = Christoffel('Ga', g)\n",
    "Ri = Ricci('Ri',g)\n",
    "Rm = Riemann('Rm', g)\n",
    "\n",
    "# WaBach implementation\n",
    "Wl = Weyl('C', g, Rm, Ri)\n",
    "Bc = Bach('B', g, Ri, Wl)\n",
    "\n",
    "print('Weyl^2:')\n",
    "display(Wl.square())\n",
    "print()\n",
    "\n",
    "print('Bach tensors')\n",
    "display(Bc(All, All))"
   ]
  }
 ],
 "metadata": {
  "kernelspec": {
   "display_name": "Python 3 (ipykernel)",
   "language": "python",
   "name": "python3"
  },
  "language_info": {
   "codemirror_mode": {
    "name": "ipython",
    "version": 3
   },
   "file_extension": ".py",
   "mimetype": "text/x-python",
   "name": "python",
   "nbconvert_exporter": "python",
   "pygments_lexer": "ipython3",
   "version": "3.10.6"
  }
 },
 "nbformat": 4,
 "nbformat_minor": 5
}
